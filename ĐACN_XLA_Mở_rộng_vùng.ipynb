{
  "nbformat": 4,
  "nbformat_minor": 0,
  "metadata": {
    "colab": {
      "provenance": [],
      "toc_visible": true,
      "authorship_tag": "ABX9TyPpDT4AENEqydHlB6wfffxn",
      "include_colab_link": true
    },
    "kernelspec": {
      "name": "python3",
      "display_name": "Python 3"
    },
    "language_info": {
      "name": "python"
    }
  },
  "cells": [
    {
      "cell_type": "markdown",
      "metadata": {
        "id": "view-in-github",
        "colab_type": "text"
      },
      "source": [
        "<a href=\"https://colab.research.google.com/github/Trantai123zz/learn_gitt/blob/master/%C4%90ACN_XLA_M%E1%BB%9F_r%E1%BB%99ng_v%C3%B9ng.ipynb\" target=\"_parent\"><img src=\"https://colab.research.google.com/assets/colab-badge.svg\" alt=\"Open In Colab\"/></a>"
      ]
    },
    {
      "cell_type": "code",
      "execution_count": null,
      "metadata": {
        "id": "tR7D3pb78XER"
      },
      "outputs": [],
      "source": [
        "import numpy as np\n",
        "import cv2\n",
        "import matplotlib.pyplot as plt\n",
        "\n",
        "# Định nghĩa lớp Point để nhận tọa độ các điểm ảnh\n",
        "# Các điểm này, sau này để chọn các điểm \"hạt giống\"\n",
        "\n",
        "class Point:\n",
        "    def __init__(self,x,y):\n",
        "      self.x = x\n",
        "      self.y = y\n",
        "\n",
        "    def getX(self):\n",
        "        return self.x\n",
        "    def getY(self):\n",
        "        return self.y\n",
        "\n",
        "# xác định giá trị mức xám khác nhau của điểm ảnh\n",
        "def getGrayDiff(img,currentPoint,tmpPoint):\n",
        "    return abs(int(img[currentPoint.x,currentPoint.y]) - int(img[tmpPoint.x,tmpPoint.y]))\n",
        "\n",
        "# Định nghĩa các 8 điểm lân cận để xem xét nở vùng (kết nối)\n",
        "def selectConnects():\n",
        "    connects = [Point(-1, -1), Point(0, -1), Point(1, -1), Point(1, 0), Point(1, 1), Point(0, 1), Point(-1, 1), Point(-1, 0)]\n",
        "    return connects\n",
        "\n",
        "# Định nghĩa hàm regionGrow để thực hiện m vùng\n",
        "def regionGrow(img,seeds,thresh): # img: ảnh; seeds: danh sách điểm hạt giống; thresh: ngưỡng\n",
        "    m, n = img.shape\n",
        "    seedMark = np.zeros([m, n]) # Tạo mảng để đánh dấu các điểm hạt gống,\n",
        "                                 # Tức là, mảng này chứa ảnh ảnh và có các điểm hạt giống\n",
        "    seedList = [] # Tạo danh sách chứa điểm hạt giống\n",
        "    for seed in seeds:\n",
        "        seedList.append(seed)      # Thêm các điểm hạt giống vào danh sách chứa điểm hạt giống\n",
        "    label = 1                     # khởi tạo nhãn có giá trị = 1\n",
        "    connects = selectConnects()   # Tạo các kết nối với 8 điểm lân cận\n",
        "    while(len(seedList)>0): # Lặp qua danh sách chứa điểm hạt giống seedList\n",
        "          # lấy điểm hạt giống đầu tiên trong danh sách chứa điểm hạt giống\n",
        "          currentPoint = seedList.pop(0)\n",
        "          # đánh dấu (gán nhãn) cho điểm hạt giống\n",
        "          seedMark[currentPoint.x,currentPoint.y] = label\n",
        "          for i in range(8):    # xem xét (lặp qua) 8 điểm lân cận\n",
        "               tmpX = currentPoint.x + connects[i].x\n",
        "               tmpY = currentPoint.y + connects[i].y\n",
        "               if tmpX < 0 or tmpY < 0 or tmpX >= m or tmpY >= n:\n",
        "                    continue\n",
        "               # Tính sự sai khác nhau giá trị mức xám của điểm ảnh hiện tại\n",
        "               # với từng điểm (8 điểm) lân cận nó\n",
        "               grayDiff = getGrayDiff(img,currentPoint,Point(tmpX,tmpY))\n",
        "               # Nếu nhỏ hơn ngưỡng và trong vùng ảnh gốc\n",
        "               if grayDiff < thresh and seedMark[tmpX,tmpY] == 0:\n",
        "                    # Đánh dấu điểm đó thành điểm hạt giống và gán nhãn\n",
        "                    seedMark[tmpX,tmpY] = label\n",
        "                    # Thêm điểm được đánh dấu vào danh sách điểm hạt giống\n",
        "                    seedList.append(Point(tmpX,tmpY))\n",
        "     # Trả về ảnh có chứa các điểm hạt giống (được gán nhãn) là ảnh phân đoạn\n",
        "    return seedMark\n",
        "\n",
        "if __name__ == \"__main__\":\n",
        "    # Đọc ảnh\n",
        "    img = cv2.imread('test6.jpg',0)\n",
        "    # Chọn 3 điểm làm điểm hạt gống. Có thể chọn số điểm cho ảnh khác\n",
        "    seeds = [Point(10, 10), Point(300, 400), Point(100, 300)]\n",
        "    # Thực hiện tăng vùng bằng cách gọi hàm regionGrow\n",
        "    img_result = regionGrow(img, seeds, 5)  #5: là giá trị ngưỡng, gía trị này thay đổi phụ thuộc ảnh ta quy định\n",
        "\n",
        "    fig = plt.figure(figsize=(16, 9))  # Tạo vùng vẽ tỷ lệ 16:9\n",
        "    #Tạo 2 vùng vẽ con\n",
        "    ax1, ax2 = fig.subplots(1, 2)\n",
        "\n",
        "    # Hiển thị ảnh gốc\n",
        "    ax1.imshow(img,cmap='gray')\n",
        "    ax1.set_title('Ảnh xám')\n",
        "    ax1.axis('off')\n",
        "\n",
        "    # Hiển thị ảnh phân đoạn\n",
        "    ax2.imshow(img_result, cmap='gray')\n",
        "    ax2.set_title('Ảnh phân đoạn')\n",
        "    ax2.axis('off')\n",
        "\n",
        "    plt.show()\n",
        "\n"
      ]
    }
  ]
}